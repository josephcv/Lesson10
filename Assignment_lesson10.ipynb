{
 "cells": [
  {
   "cell_type": "code",
   "execution_count": 17,
   "metadata": {},
   "outputs": [
    {
     "name": "stdout",
     "output_type": "stream",
     "text": [
      "Enter moving average window size= 4\n",
      "[ 25.  35.  45.  55.  65.  75.  85.]\n"
     ]
    }
   ],
   "source": [
    "import numpy as np\n",
    "xa=np.array([10,20,30,40,50,60,70,80,90,100])\n",
    "Wsize=input(\"Enter moving average window size= \")\n",
    "Wsize=int(Wsize)\n",
    "olv=1/Wsize\n",
    "xb=np.repeat(olv,Wsize)\n",
    "xc=np.convolve(xa,xb,'valid')\n",
    "print(xc)"
   ]
  },
  {
   "cell_type": "code",
   "execution_count": 23,
   "metadata": {},
   "outputs": [
    {
     "name": "stdout",
     "output_type": "stream",
     "text": [
      "Enter moving average window size= 3\n",
      "[   5.            4.66666667    5.66666667    6.66666667    9.66666667\n",
      "   28.66666667   49.33333333   72.66666667   84.           93.33333333\n",
      "  116.33333333]\n"
     ]
    }
   ],
   "source": [
    "# Assignment 10.1\n",
    "# ip --> Input array\n",
    "# Wsize --> moving average window size\n",
    "# olv --> overlaping value for convolve operation\n",
    "# Ola --> overlaping array required for convolve operation\n",
    "# op --> Output array\n",
    "\n",
    "ip=np.array([3, 5, 7, 2, 8, 10, 11, 65, 72, 81, 99, 100, 150])\n",
    "Wsize=input(\"Enter moving average window size= \")\n",
    "Wsize=int(Wsize)\n",
    "olv=1/Wsize\n",
    "ola=np.repeat(olv,Wsize)\n",
    "op=np.convolve(ip,ola,'valid')\n",
    "print(op)"
   ]
  },
  {
   "cell_type": "code",
   "execution_count": null,
   "metadata": {
    "collapsed": true
   },
   "outputs": [],
   "source": []
  }
 ],
 "metadata": {
  "kernelspec": {
   "display_name": "Python 3",
   "language": "python",
   "name": "python3"
  },
  "language_info": {
   "codemirror_mode": {
    "name": "ipython",
    "version": 3
   },
   "file_extension": ".py",
   "mimetype": "text/x-python",
   "name": "python",
   "nbconvert_exporter": "python",
   "pygments_lexer": "ipython3",
   "version": "3.6.3"
  }
 },
 "nbformat": 4,
 "nbformat_minor": 2
}
